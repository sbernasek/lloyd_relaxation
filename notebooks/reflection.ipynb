{
 "cells": [
  {
   "cell_type": "code",
   "execution_count": 1,
   "metadata": {
    "collapsed": true
   },
   "outputs": [],
   "source": [
    "import numpy as np\n",
    "import matplotlib.pyplot as plt\n",
    "%matplotlib inline"
   ]
  },
  {
   "cell_type": "code",
   "execution_count": 35,
   "metadata": {
    "collapsed": true
   },
   "outputs": [],
   "source": []
  },
  {
   "cell_type": "code",
   "execution_count": 283,
   "metadata": {
    "collapsed": false
   },
   "outputs": [],
   "source": [
    "# 2 x N\n",
    "points = np.random.uniform(size=(2, 5))\n",
    "\n",
    "# 2 x M\n",
    "line_start_points = np.array([[0, 0, 0], [0, 0, 0]])\n",
    "line_vectors = np.array([[0, 1, 1], [1, 0, 1]])\n",
    "line_end_points = line_start_points + line_vectors"
   ]
  },
  {
   "cell_type": "code",
   "execution_count": 290,
   "metadata": {
    "collapsed": false
   },
   "outputs": [
    {
     "data": {
      "image/png": "[encoded data removed]",
      "text/plain": [
       "<matplotlib.figure.Figure at 0x1069db828>"
      ]
     },
     "metadata": {},
     "output_type": "display_data"
    }
   ],
   "source": [
    "fig, ax = plt.subplots(figsize=(4, 3))\n",
    "\n",
    "# add points\n",
    "ax.scatter(*points, color='k')\n",
    "\n",
    "# add lines\n",
    "for start, end in zip(line_start_points.T, line_end_points.T):\n",
    "    ax.plot(*list(zip(start, end)))\n",
    "\n",
    "# set axes limits\n",
    "_ = ax.set_xlim(-2, 2), ax.set_ylim(-2, 2)\n",
    "\n",
    "\n",
    "R = get_reflection(points, line_start_points, line_vectors)\n",
    "\n",
    "\n",
    "colors = ['b', 'g', 'r']\n",
    "for m in range(3):\n",
    "    for n in range(5):\n",
    "        pts = R[:,n,m]\n",
    "        ax.scatter(*pts, color=colors[m])"
   ]
  },
  {
   "cell_type": "code",
   "execution_count": 291,
   "metadata": {
    "collapsed": false
   },
   "outputs": [],
   "source": [
    "def get_reflection(points, line_points, line_vectors):\n",
    "    \n",
    "    # construct tiled vectors\n",
    "    x = np.tile(points.reshape(points.shape[0], points.shape[1], 1), (1, 1, line_points.shape[1]))\n",
    "    p = np.tile(line_points.reshape(line_points.shape[0], 1, line_points.shape[1]), (1, points.shape[1], 1))\n",
    "    d = np.tile(line_vectors.reshape(line_vectors.shape[0], 1, line_vectors.shape[1]), (1, points.shape[1], 1))\n",
    "\n",
    "    # instantiate dot operation\n",
    "    dot = lambda a, b: np.einsum(\"ijk, ijk->jk\", a, b)\n",
    "\n",
    "    # compute projections NEGATIVE??????\n",
    "    constants = dot(x-p, d) / dot(d, d)\n",
    "    A = p + d*np.tile(constants.reshape(1, constants.shape[0], constants.shape[1]), reps=(2, 1, 1))\n",
    "\n",
    "    #compute reflections\n",
    "    R = 2*A - x\n",
    "    \n",
    "    return R"
   ]
  },
  {
   "cell_type": "code",
   "execution_count": null,
   "metadata": {
    "collapsed": true
   },
   "outputs": [],
   "source": []
  },
  {
   "cell_type": "code",
   "execution_count": null,
   "metadata": {
    "collapsed": true
   },
   "outputs": [],
   "source": []
  },
  {
   "cell_type": "code",
   "execution_count": 289,
   "metadata": {
    "collapsed": true
   },
   "outputs": [],
   "source": []
  },
  {
   "cell_type": "code",
   "execution_count": null,
   "metadata": {
    "collapsed": true
   },
   "outputs": [],
   "source": []
  }
 ],
 "metadata": {
  "kernelspec": {
   "display_name": "Python 3",
   "language": "python",
   "name": "python3"
  },
  "language_info": {
   "codemirror_mode": {
    "name": "ipython",
    "version": 3
   },
   "file_extension": ".py",
   "mimetype": "text/x-python",
   "name": "python",
   "nbconvert_exporter": "python",
   "pygments_lexer": "ipython3",
   "version": "3.4.5"
  }
 },
 "nbformat": 4,
 "nbformat_minor": 2
}
